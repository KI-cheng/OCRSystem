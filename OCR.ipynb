{
  "nbformat": 4,
  "nbformat_minor": 0,
  "metadata": {
    "colab": {
      "provenance": []
    },
    "kernelspec": {
      "name": "python3",
      "display_name": "Python 3"
    },
    "language_info": {
      "name": "python"
    }
  },
  "cells": [
    {
      "cell_type": "code",
      "execution_count": null,
      "metadata": {
        "id": "WNrON78nYn2o"
      },
      "outputs": [],
      "source": [
        "!sudo apt install tesseract-ocr libtesseract-dev\n",
        "!sudo apt-get install tesseract-ocr-chi-sim\n",
        "!pip install pytesseract opencv-python-headless\n",
        "!pip install paddleocr\n",
        "!pip install paddlepaddle\n",
        "!pip install Levenshtein"
      ]
    },
    {
      "cell_type": "code",
      "source": [
        "import cv2\n",
        "import re\n",
        "import pytesseract\n",
        "import numpy as np\n",
        "import os\n",
        "import random\n",
        "import time\n",
        "import Levenshtein\n",
        "from paddleocr import PaddleOCR, draw_ocr\n",
        "import matplotlib.pyplot as plt\n",
        "from PIL import Image\n",
        "from pytesseract import Output\n",
        "from google.colab.patches import cv2_imshow\n",
        "from google.colab import drive\n",
        "drive.mount('/content/drive')\n"
      ],
      "metadata": {
        "id": "EqCustmUcAIF",
        "colab": {
          "base_uri": "https://localhost:8080/"
        },
        "outputId": "6913c782-bd25-4c38-aada-bdaf846c56c5"
      },
      "execution_count": 2,
      "outputs": [
        {
          "output_type": "stream",
          "name": "stdout",
          "text": [
            "Mounted at /content/drive\n"
          ]
        }
      ]
    },
    {
      "cell_type": "code",
      "source": [
        "# 创建一个专门用于侵蚀黑色值的函数 灰度-》二值化-》侵蚀\n",
        "# Create a function dedicated to eroding black values Grayscale -> Binarization -> Erosion.\n",
        "# 调整： 进行反转以侵蚀黑色\n",
        "# Adjustment: Invert to erode black.\n",
        "def erode_black(image, min_line_width=2, edge_width=6):\n",
        "  # 判断，调整顺序时防止报错\n",
        "  # Judgment to prevent reporting errors when adjusting the order\n",
        "  if len(image.shape) == 3:\n",
        "    gray = cv2.cvtColor(image, cv2.COLOR_BGR2GRAY)\n",
        "  else:\n",
        "    gray = image.copy()\n",
        "\n",
        "  # 二值化，这里是需要侵蚀黑色的部分，反转一下\n",
        "  # Binarization, here is the part that needs to erode the black, invert it.\n",
        "  _, binary = cv2.threshold(gray, 0, 255, cv2.THRESH_BINARY_INV + cv2.THRESH_OTSU)\n",
        "\n",
        "  # 创建水平和垂直的kernel\n",
        "  # Create horizontal and vertical kernel.\n",
        "  horizontal_kernel = cv2.getStructuringElement(cv2.MORPH_RECT, (min_line_width, 2))\n",
        "  vertical_kernel = cv2.getStructuringElement(cv2.MORPH_RECT, (min_line_width, 2))\n",
        "\n",
        "  # 水平线和垂直线腐蚀 迭代一次\n",
        "  # Horizontal and vertical line erosion. Iterate once.\n",
        "  eroded_horizontal = cv2.erode(binary, horizontal_kernel, iterations=1)\n",
        "  eroded_vertical = cv2.erode(binary, vertical_kernel, iterations=1)\n",
        "\n",
        "  # 合并水平和垂直腐蚀\n",
        "  # Combined horizontal and vertical corrosion.\n",
        "  eroded = cv2.bitwise_or(eroded_horizontal, eroded_vertical)\n",
        "\n",
        "  # 把图像反转回来\n",
        "  # Invert the image back.\n",
        "  result = cv2.bitwise_not(eroded)\n",
        "\n",
        "  return result\n",
        "\n",
        "# 整理所有的预处理，返回处理后的图片结果\n",
        "# 调整：输入文件地址，减少占用\n",
        "# Organize all the preprocessing and return the result of the processed image.\n",
        "# Adjustment: input file address to reduce occupancy.\n",
        "def pre_processing(path):\n",
        "  img = cv2.imread(path)\n",
        "  gray = cv2.cvtColor(img, cv2.COLOR_BGR2GRAY)\n",
        "  gaussian = cv2.GaussianBlur(gray, (7,7), 0)\n",
        "  erode = erode_black(gaussian)\n",
        "  median = cv2.medianBlur(erode, 3)\n",
        "  return median\n",
        "\n",
        "# 撰写一个根据需求返回文件的函数\n",
        "# Write a function that returns files on demand.\n",
        "def get_files(folder_path, percentage = 1):\n",
        "  files = os.listdir(folder_path)\n",
        "  if not files:\n",
        "    print(f\"文件夹 {folder_path} 中没有符合条件的文件\")\n",
        "    return []\n",
        "  # 获取所有名字后进行占比的计算\n",
        "  # Get all the names and then do the calculation of the percentage\n",
        "  percentage = max(0, min(1, percentage))\n",
        "  number = max(int(len(files)*percentage), 1)\n",
        "  selected_files = random.sample(files, number)\n",
        "\n",
        "  files_list = []\n",
        "  for file in selected_files:\n",
        "    t = os.path.join(folder_path, file)\n",
        "    files_list.append(t)\n",
        "\n",
        "  # 返回全路径,文件名字(比对标准) 还有数量\n",
        "  # Returns the full path, the file name (to match the standard), and the number.\n",
        "  return files_list, selected_files, len(selected_files)\n",
        "\n",
        "\n",
        "# 编写函数处理ocr返回的俩个结果\n",
        "# Write a function to handle the two results returned by ocr.\n",
        "def text_and_possibility(result):\n",
        "  try:\n",
        "    text = result[0][0][1][0]\n",
        "    possibility = result[0][0][1][1]\n",
        "    return text,possibility\n",
        "  except:\n",
        "    return '',''"
      ],
      "metadata": {
        "id": "YzDmJCRcq0K8"
      },
      "execution_count": 3,
      "outputs": []
    },
    {
      "cell_type": "code",
      "source": [
        "def calculate_cer(reference, hypothesis):\n",
        "  # 如果有空的而另外一个不是空的则完全错误\n",
        "  # If there is an empty one and the other one is not empty then it is a complete error.\n",
        "  if not reference and not hypothesis:\n",
        "      return 0.0\n",
        "  if not reference or not hypothesis:\n",
        "      return 1.0\n",
        "  return Levenshtein.distance(reference, hypothesis)/len(reference)\n",
        "\n",
        "def calculate_wer(reference, hypothesis):\n",
        "  if not reference and not hypothesis:\n",
        "      return 0.0\n",
        "  if not reference or not hypothesis:\n",
        "      return 1.0\n",
        "  ref_words = reference.split()\n",
        "  hyp_words = hypothesis.split()\n",
        "  return Levenshtein.distance(ref_words, hyp_words)/len(ref_words)\n",
        "\n",
        "# 接收预测值和正确答案，进行对比，评估正确性并返回\n",
        "# Receives the predicted value and the correct answer, compares them, evaluates the correctness.\n",
        "def evaluate(ground_truth, predictions):\n",
        "  total_cer = 0\n",
        "  total_wer = 0\n",
        "  total_count = len(ground_truth)\n",
        "\n",
        "  for truth, pred in zip(ground_truth, predictions):\n",
        "    total_cer += calculate_cer(truth, pred)\n",
        "    total_wer += calculate_wer(truth, pred)\n",
        "\n",
        "  avg_cer = total_cer/total_count\n",
        "  avg_wer = total_wer/total_count\n",
        "\n",
        "  return {\n",
        "      \"Average CER\": avg_cer,\n",
        "      \"Average WER\": avg_wer\n",
        "  }"
      ],
      "metadata": {
        "id": "M6-huVGfZXvj"
      },
      "execution_count": 16,
      "outputs": []
    },
    {
      "cell_type": "code",
      "source": [
        "# 该模块处理所有的数据\n",
        "# This module handles all the data\n",
        "folder_path = '/content/drive/MyDrive/Dataset/math_dataset'\n",
        "\n",
        "files_paths, answer, num = get_files(folder_path, 0.1)\n",
        "\n",
        "# 创建两个列表分别存储识别的字符和概率\n",
        "# Create two lists to store recognized characters and probabilities respectively.\n",
        "predictions = []\n",
        "ocr_possibility = []\n",
        "ocr = PaddleOCR(use_angle_cls=True, lang='en', show_log=False, det=True, rec=True)\n",
        "\n",
        "# 开始遍历, 顺便计时\n",
        "# start traversing and record the time of duration.\n",
        "start = time.perf_counter()\n",
        "for files_path in files_paths:\n",
        "  img = pre_processing(files_path)\n",
        "  result = ocr.ocr(img, cls=True)\n",
        "  text,possibility = text_and_possibility(result)\n",
        "  predictions.append(text)\n",
        "  ocr_possibility.append(possibility)\n",
        "\n",
        "# print(predictions)\n",
        "# print(ocr_possibility)\n",
        "end = time.perf_counter()\n",
        "print(f'Time spent per image processing and recognition is {(end-start)/num:.4f} seconds.')\n",
        "\n",
        "# 得到了处理的结果后来进行一下对比观察是否正确\n",
        "# After you get the results of the process, you can compare them to see if they are correct.\n",
        "# 先处理一下文件名\n",
        "# Processing the filename.\n",
        "for i in range(len(answer)):\n",
        "  answer[i] = answer[i].replace('.png', '=?')\n",
        "\n",
        "# print(answer)\n",
        "\n",
        "results = evaluate(answer, predictions)\n",
        "for key, value in results.items():\n",
        "    print(f\"{key}: {value:.4f}\")"
      ],
      "metadata": {
        "colab": {
          "base_uri": "https://localhost:8080/"
        },
        "id": "MJpRBCZ0Fq-E",
        "outputId": "0860f345-0795-4121-c3f0-906b9b57a56f"
      },
      "execution_count": 29,
      "outputs": [
        {
          "output_type": "stream",
          "name": "stdout",
          "text": [
            "Time spent per image processing and recognition is 0.1201 seconds.\n",
            "Average CER: 0.0806\n",
            "Average WER: 0.3657\n"
          ]
        }
      ]
    },
    {
      "cell_type": "code",
      "source": [
        "# 该模块随机选择一个数据集图像进行处理\n",
        "# This module is to randomly select a dataset image for processing\n",
        "folder_path = '/content/drive/MyDrive/Dataset/math_dataset'\n",
        "\n",
        "files = os.listdir(folder_path)\n",
        "random_file = random.choice(files)\n",
        "full_file_path = os.path.join(folder_path, random_file)\n",
        "\n",
        "# 图像预处理 Pre-processing\n",
        "img = cv2.imread(full_file_path)\n",
        "print(f'This is original image:')\n",
        "cv2_imshow(img)\n",
        "\n",
        "# 转为灰度图\n",
        "gray = cv2.cvtColor(img, cv2.COLOR_BGR2GRAY)\n",
        "print(f'This is grayscale image:')\n",
        "cv2_imshow(gray)\n",
        "\n",
        "# 高斯滤波\n",
        "# Gaussian filter\n",
        "gaussian = cv2.GaussianBlur(gray, (7,7), 0)\n",
        "print(f'This is processed image after gaussian filter:')\n",
        "cv2_imshow(gaussian)\n",
        "\n",
        "# 二值化和定向侵蚀\n",
        "# binarization and directional erode\n",
        "erode = erode_black(gaussian)\n",
        "print(f'This is processed image after binarization and directional erode:')\n",
        "cv2_imshow(erode)\n",
        "\n",
        "# 中值滤波处理比较小的噪声（小黑点）\n",
        "# Using median filter to deal with the smaller black points.\n",
        "median = cv2.medianBlur(erode, 3)\n",
        "print(f'This is processed image after median filter:')\n",
        "cv2_imshow(median)\n",
        "\n",
        "# 使用PaddleOCR\n",
        "# Using PaddleOCR.\n",
        "ocr = PaddleOCR(use_angle_cls=True, lang='en', show_log=False, det=True, rec=True)\n",
        "result = ocr.ocr(median, cls=True)\n",
        "# [[[[[16.0, 8.0], [181.0, 17.0], [179.0, 56.0], [14.0, 48.0]], ('60-1=?', 0.9548397660255432)]]]\n",
        "\n",
        "\n",
        "# 获取边界框用于绘制\n",
        "# Getting the numeric data of boundary of the text.\n",
        "boundary = result[0][0][0]\n",
        "print(f'The points of boudary as follows :{boundary}')\n",
        "left_top = tuple(map(int, boundary[0]))\n",
        "right_bottom = tuple(map(int, boundary[2]))\n",
        "# 绘制文本框\n",
        "# Drawing boundary of the text.\n",
        "marked_img = cv2.rectangle(img, left_top, right_bottom, (0, 255, 0), 2)\n",
        "cv2_imshow(marked_img)\n",
        "\n",
        "\n",
        "# 获取文本和概率\n",
        "# Getting the text and possibility.\n",
        "print(f'Finally,the recognized text is: {result[0][0][1][0]}')\n",
        "print(f'And the confidence level is: {result[0][0][1][1]}')\n"
      ],
      "metadata": {
        "colab": {
          "base_uri": "https://localhost:8080/",
          "height": 576
        },
        "id": "LMXrc0e50IvA",
        "outputId": "a7986bf1-6952-476d-b390-f187fe33c5f1"
      },
      "execution_count": 27,
      "outputs": [
        {
          "output_type": "stream",
          "name": "stdout",
          "text": [
            "This is original image:\n"
          ]
        },
        {
          "output_type": "display_data",
          "data": {
            "text/plain": [
              "<PIL.Image.Image image mode=RGB size=200x70>"
            ],
            "image/png": "[encoded data removed]",
            "image/jpeg": "[encoded data removed]"
          },
          "metadata": {}
        },
        {
          "output_type": "stream",
          "name": "stdout",
          "text": [
            "This is grayscale image:\n"
          ]
        },
        {
          "output_type": "display_data",
          "data": {
            "text/plain": [
              "<PIL.Image.Image image mode=L size=200x70>"
            ],
            "image/png": "[encoded data removed]",
            "image/jpeg": "[encoded data removed]"
          },
          "metadata": {}
        },
        {
          "output_type": "stream",
          "name": "stdout",
          "text": [
            "This is processed image after gaussian filter:\n"
          ]
        },
        {
          "output_type": "display_data",
          "data": {
            "text/plain": [
              "<PIL.Image.Image image mode=L size=200x70>"
            ],
            "image/png": "[encoded data removed]",
            "image/jpeg": "[encoded data removed]"
          },
          "metadata": {}
        },
        {
          "output_type": "stream",
          "name": "stdout",
          "text": [
            "This is processed image after binarization and directional erode:\n"
          ]
        },
        {
          "output_type": "display_data",
          "data": {
            "text/plain": [
              "<PIL.Image.Image image mode=L size=200x70>"
            ],
            "image/png": "[encoded data removed]",
            "image/jpeg": "[encoded data removed]"
          },
          "metadata": {}
        },
        {
          "output_type": "stream",
          "name": "stdout",
          "text": [
            "This is processed image after median filter:\n"
          ]
        },
        {
          "output_type": "display_data",
          "data": {
            "text/plain": [
              "<PIL.Image.Image image mode=L size=200x70>"
            ],
            "image/png": "[encoded data removed]",
            "image/jpeg": "[encoded data removed]"
          },
          "metadata": {}
        },
        {
          "output_type": "stream",
          "name": "stdout",
          "text": [
            "The points of boudary as follows :[[28.0, 12.0], [189.0, 12.0], [189.0, 54.0], [28.0, 54.0]]\n"
          ]
        },
        {
          "output_type": "display_data",
          "data": {
            "text/plain": [
              "<PIL.Image.Image image mode=RGB size=200x70>"
            ],
            "image/png": "[encoded data removed]",
            "image/jpeg": "[encoded data removed]"
          },
          "metadata": {}
        },
        {
          "output_type": "stream",
          "name": "stdout",
          "text": [
            "Finally,the recognized text is: 35+19=?\n",
            "And the confidence level is: 0.9667648673057556\n"
          ]
        }
      ]
    }
  ]
}